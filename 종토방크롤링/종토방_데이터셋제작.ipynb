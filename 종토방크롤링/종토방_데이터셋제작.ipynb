{
 "metadata": {
  "language_info": {
   "codemirror_mode": {
    "name": "ipython",
    "version": 3
   },
   "file_extension": ".py",
   "mimetype": "text/x-python",
   "name": "python",
   "nbconvert_exporter": "python",
   "pygments_lexer": "ipython3",
   "version": "3.7.9"
  },
  "orig_nbformat": 2,
  "kernelspec": {
   "name": "python379jvsc74a57bd03fb1c8fbbd2100757d8c96181345391f8ea77f90fef690deaf3e5179cd278248",
   "display_name": "Python 3.7.9 64-bit ('python37': conda)"
  }
 },
 "nbformat": 4,
 "nbformat_minor": 2,
 "cells": [
  {
   "cell_type": "code",
   "execution_count": 1,
   "metadata": {},
   "outputs": [
    {
     "output_type": "stream",
     "name": "stderr",
     "text": [
      "C:\\Users\\ppkk2\\anaconda3\\envs\\python37\\lib\\site-packages\\IPython\\core\\interactiveshell.py:3147: DtypeWarning: Columns (22) have mixed types.Specify dtype option on import or set low_memory=False.\n  interactivity=interactivity, compiler=compiler, result=result)\n"
     ]
    },
    {
     "output_type": "execute_result",
     "data": {
      "text/plain": [
       "       Unnamed: 0  Unnamed: 0.1        DATE  NAME  SECTOR   VOLUME   PER  \\\n",
       "0               0             0  2018-01-02  현대건설       1   649218  8.44   \n",
       "1               1             1  2018-01-03  현대건설       1   482518  8.24   \n",
       "2               2             2  2018-01-04  현대건설       1  1459930  8.62   \n",
       "3               3             3  2018-01-05  현대건설       1   655891  8.64   \n",
       "4               4             4  2018-01-08  현대건설       1   577188  8.71   \n",
       "...           ...           ...         ...   ...     ...      ...   ...   \n",
       "39261       39261         39261  2021-02-22  유성기업       8    86083  4.74   \n",
       "39262       39262         39262  2021-02-23  유성기업       8   121527  4.65   \n",
       "39263       39263         39263  2021-02-24  유성기업       8   178389  4.45   \n",
       "39264       39264         39264  2021-02-25  유성기업       8    98385  4.54   \n",
       "39265       39265         39265  2021-02-26  유성기업       8   107918  4.44   \n",
       "\n",
       "        PBR   DIV  DPS  ...  week2_기사_키워드평균  week2_기사_긍부정평균  week2_기사_count  \\\n",
       "0      0.65  1.35  500  ...        5.000000        0.250000            14.0   \n",
       "1      0.64  1.38  500  ...        3.571429        0.107143            10.0   \n",
       "2      0.67  1.32  500  ...        3.142857        0.089286            14.0   \n",
       "3      0.67  1.31  500  ...        4.142857        0.128247            25.0   \n",
       "4      0.67  1.30  500  ...        3.000000       -0.014610            21.0   \n",
       "...     ...   ...  ...  ...             ...             ...             ...   \n",
       "39261  0.30  6.22  200  ...        0.000000        0.000000             0.0   \n",
       "39262  0.30  6.35  200  ...        0.000000        0.000000             0.0   \n",
       "39263  0.28  6.63  200  ...        0.000000        0.000000             0.0   \n",
       "39264  0.29  6.49  200  ...        0.000000        0.000000             0.0   \n",
       "39265  0.28  6.64  200  ...        0.000000        0.000000             0.0   \n",
       "\n",
       "       week3_기사_키워드평균  week3_기사_긍부정평균  week3_기사_count  week4_기사_키워드평균  \\\n",
       "0           15.714286        0.005952            23.0        1.714286   \n",
       "1           12.285714        0.053571            21.0        5.428571   \n",
       "2            8.857143        0.107143            17.0        8.571429   \n",
       "3            6.285714        0.250000            16.0       13.285714   \n",
       "4            6.000000        0.392857            16.0       14.714286   \n",
       "...               ...             ...             ...             ...   \n",
       "39261        0.000000        0.000000             0.0        0.000000   \n",
       "39262        0.000000        0.000000             0.0        0.000000   \n",
       "39263        0.000000        0.000000             0.0        0.000000   \n",
       "39264        0.000000        0.000000             0.0        0.000000   \n",
       "39265        0.000000        0.000000             0.0        0.000000   \n",
       "\n",
       "       week4_기사_긍부정평균  week4_기사_count  month_기사_count  \n",
       "0           -0.333333            12.0            70.0  \n",
       "1           -0.309524            16.0            72.0  \n",
       "2           -0.208333            18.0            73.0  \n",
       "3           -0.208333            17.0            74.0  \n",
       "4           -0.279762            22.0            82.0  \n",
       "...               ...             ...             ...  \n",
       "39261        0.000000             0.0             0.0  \n",
       "39262        0.000000             0.0             0.0  \n",
       "39263        0.000000             0.0             0.0  \n",
       "39264        0.000000             0.0             0.0  \n",
       "39265        0.000000             0.0             0.0  \n",
       "\n",
       "[39266 rows x 41 columns]"
      ],
      "text/html": "<div>\n<style scoped>\n    .dataframe tbody tr th:only-of-type {\n        vertical-align: middle;\n    }\n\n    .dataframe tbody tr th {\n        vertical-align: top;\n    }\n\n    .dataframe thead th {\n        text-align: right;\n    }\n</style>\n<table border=\"1\" class=\"dataframe\">\n  <thead>\n    <tr style=\"text-align: right;\">\n      <th></th>\n      <th>Unnamed: 0</th>\n      <th>Unnamed: 0.1</th>\n      <th>DATE</th>\n      <th>NAME</th>\n      <th>SECTOR</th>\n      <th>VOLUME</th>\n      <th>PER</th>\n      <th>PBR</th>\n      <th>DIV</th>\n      <th>DPS</th>\n      <th>...</th>\n      <th>week2_기사_키워드평균</th>\n      <th>week2_기사_긍부정평균</th>\n      <th>week2_기사_count</th>\n      <th>week3_기사_키워드평균</th>\n      <th>week3_기사_긍부정평균</th>\n      <th>week3_기사_count</th>\n      <th>week4_기사_키워드평균</th>\n      <th>week4_기사_긍부정평균</th>\n      <th>week4_기사_count</th>\n      <th>month_기사_count</th>\n    </tr>\n  </thead>\n  <tbody>\n    <tr>\n      <th>0</th>\n      <td>0</td>\n      <td>0</td>\n      <td>2018-01-02</td>\n      <td>현대건설</td>\n      <td>1</td>\n      <td>649218</td>\n      <td>8.44</td>\n      <td>0.65</td>\n      <td>1.35</td>\n      <td>500</td>\n      <td>...</td>\n      <td>5.000000</td>\n      <td>0.250000</td>\n      <td>14.0</td>\n      <td>15.714286</td>\n      <td>0.005952</td>\n      <td>23.0</td>\n      <td>1.714286</td>\n      <td>-0.333333</td>\n      <td>12.0</td>\n      <td>70.0</td>\n    </tr>\n    <tr>\n      <th>1</th>\n      <td>1</td>\n      <td>1</td>\n      <td>2018-01-03</td>\n      <td>현대건설</td>\n      <td>1</td>\n      <td>482518</td>\n      <td>8.24</td>\n      <td>0.64</td>\n      <td>1.38</td>\n      <td>500</td>\n      <td>...</td>\n      <td>3.571429</td>\n      <td>0.107143</td>\n      <td>10.0</td>\n      <td>12.285714</td>\n      <td>0.053571</td>\n      <td>21.0</td>\n      <td>5.428571</td>\n      <td>-0.309524</td>\n      <td>16.0</td>\n      <td>72.0</td>\n    </tr>\n    <tr>\n      <th>2</th>\n      <td>2</td>\n      <td>2</td>\n      <td>2018-01-04</td>\n      <td>현대건설</td>\n      <td>1</td>\n      <td>1459930</td>\n      <td>8.62</td>\n      <td>0.67</td>\n      <td>1.32</td>\n      <td>500</td>\n      <td>...</td>\n      <td>3.142857</td>\n      <td>0.089286</td>\n      <td>14.0</td>\n      <td>8.857143</td>\n      <td>0.107143</td>\n      <td>17.0</td>\n      <td>8.571429</td>\n      <td>-0.208333</td>\n      <td>18.0</td>\n      <td>73.0</td>\n    </tr>\n    <tr>\n      <th>3</th>\n      <td>3</td>\n      <td>3</td>\n      <td>2018-01-05</td>\n      <td>현대건설</td>\n      <td>1</td>\n      <td>655891</td>\n      <td>8.64</td>\n      <td>0.67</td>\n      <td>1.31</td>\n      <td>500</td>\n      <td>...</td>\n      <td>4.142857</td>\n      <td>0.128247</td>\n      <td>25.0</td>\n      <td>6.285714</td>\n      <td>0.250000</td>\n      <td>16.0</td>\n      <td>13.285714</td>\n      <td>-0.208333</td>\n      <td>17.0</td>\n      <td>74.0</td>\n    </tr>\n    <tr>\n      <th>4</th>\n      <td>4</td>\n      <td>4</td>\n      <td>2018-01-08</td>\n      <td>현대건설</td>\n      <td>1</td>\n      <td>577188</td>\n      <td>8.71</td>\n      <td>0.67</td>\n      <td>1.30</td>\n      <td>500</td>\n      <td>...</td>\n      <td>3.000000</td>\n      <td>-0.014610</td>\n      <td>21.0</td>\n      <td>6.000000</td>\n      <td>0.392857</td>\n      <td>16.0</td>\n      <td>14.714286</td>\n      <td>-0.279762</td>\n      <td>22.0</td>\n      <td>82.0</td>\n    </tr>\n    <tr>\n      <th>...</th>\n      <td>...</td>\n      <td>...</td>\n      <td>...</td>\n      <td>...</td>\n      <td>...</td>\n      <td>...</td>\n      <td>...</td>\n      <td>...</td>\n      <td>...</td>\n      <td>...</td>\n      <td>...</td>\n      <td>...</td>\n      <td>...</td>\n      <td>...</td>\n      <td>...</td>\n      <td>...</td>\n      <td>...</td>\n      <td>...</td>\n      <td>...</td>\n      <td>...</td>\n      <td>...</td>\n    </tr>\n    <tr>\n      <th>39261</th>\n      <td>39261</td>\n      <td>39261</td>\n      <td>2021-02-22</td>\n      <td>유성기업</td>\n      <td>8</td>\n      <td>86083</td>\n      <td>4.74</td>\n      <td>0.30</td>\n      <td>6.22</td>\n      <td>200</td>\n      <td>...</td>\n      <td>0.000000</td>\n      <td>0.000000</td>\n      <td>0.0</td>\n      <td>0.000000</td>\n      <td>0.000000</td>\n      <td>0.0</td>\n      <td>0.000000</td>\n      <td>0.000000</td>\n      <td>0.0</td>\n      <td>0.0</td>\n    </tr>\n    <tr>\n      <th>39262</th>\n      <td>39262</td>\n      <td>39262</td>\n      <td>2021-02-23</td>\n      <td>유성기업</td>\n      <td>8</td>\n      <td>121527</td>\n      <td>4.65</td>\n      <td>0.30</td>\n      <td>6.35</td>\n      <td>200</td>\n      <td>...</td>\n      <td>0.000000</td>\n      <td>0.000000</td>\n      <td>0.0</td>\n      <td>0.000000</td>\n      <td>0.000000</td>\n      <td>0.0</td>\n      <td>0.000000</td>\n      <td>0.000000</td>\n      <td>0.0</td>\n      <td>0.0</td>\n    </tr>\n    <tr>\n      <th>39263</th>\n      <td>39263</td>\n      <td>39263</td>\n      <td>2021-02-24</td>\n      <td>유성기업</td>\n      <td>8</td>\n      <td>178389</td>\n      <td>4.45</td>\n      <td>0.28</td>\n      <td>6.63</td>\n      <td>200</td>\n      <td>...</td>\n      <td>0.000000</td>\n      <td>0.000000</td>\n      <td>0.0</td>\n      <td>0.000000</td>\n      <td>0.000000</td>\n      <td>0.0</td>\n      <td>0.000000</td>\n      <td>0.000000</td>\n      <td>0.0</td>\n      <td>0.0</td>\n    </tr>\n    <tr>\n      <th>39264</th>\n      <td>39264</td>\n      <td>39264</td>\n      <td>2021-02-25</td>\n      <td>유성기업</td>\n      <td>8</td>\n      <td>98385</td>\n      <td>4.54</td>\n      <td>0.29</td>\n      <td>6.49</td>\n      <td>200</td>\n      <td>...</td>\n      <td>0.000000</td>\n      <td>0.000000</td>\n      <td>0.0</td>\n      <td>0.000000</td>\n      <td>0.000000</td>\n      <td>0.0</td>\n      <td>0.000000</td>\n      <td>0.000000</td>\n      <td>0.0</td>\n      <td>0.0</td>\n    </tr>\n    <tr>\n      <th>39265</th>\n      <td>39265</td>\n      <td>39265</td>\n      <td>2021-02-26</td>\n      <td>유성기업</td>\n      <td>8</td>\n      <td>107918</td>\n      <td>4.44</td>\n      <td>0.28</td>\n      <td>6.64</td>\n      <td>200</td>\n      <td>...</td>\n      <td>0.000000</td>\n      <td>0.000000</td>\n      <td>0.0</td>\n      <td>0.000000</td>\n      <td>0.000000</td>\n      <td>0.0</td>\n      <td>0.000000</td>\n      <td>0.000000</td>\n      <td>0.0</td>\n      <td>0.0</td>\n    </tr>\n  </tbody>\n</table>\n<p>39266 rows × 41 columns</p>\n</div>"
     },
     "metadata": {},
     "execution_count": 1
    }
   ],
   "source": [
    "import pandas as pd\n",
    "from datetime import datetime, timedelta\n",
    "import numpy as np\n",
    "\n",
    "sf = pd.read_csv(\"df_updated.csv\")\n",
    "sf\n"
   ]
  },
  {
   "cell_type": "code",
   "execution_count": 2,
   "metadata": {},
   "outputs": [
    {
     "output_type": "execute_result",
     "data": {
      "text/plain": [
       "array(['현대건설', 'LG화학', 'POSCO', '삼성SDI', '한국조선해양', 'S-Oil', '롯데케미칼',\n",
       "       '롯데쇼핑', '한국가스공사', 'GS건설', 'SK이노베이션', 'NAVER', '삼성바이오로직스', '대한항공',\n",
       "       '현대제철', '삼성전자', '호텔신라', '고려아연', 'LG이노텍', '한국전력', 'KT', '한전KPS',\n",
       "       '현대글로비스', 'CJ제일제당', '카카오', '삼부토건', '진양화학', '조선선재', '하이스틸', '삼화전기',\n",
       "       'KH 필룩스', '대우조선해양', '극동유화', '세이브존I&C', '서울가스', '미창석유', '대성산업',\n",
       "       '한미약품', '동화약품', '유니퀘스트', '이월드', '삼아알미늄', '조선내화', '일진머티리얼즈', '써니전자',\n",
       "       '세방', '현대위아', '계양전기', '태영건설', '롯데정밀화학', '광주신세계', '유성기업'],\n",
       "      dtype=object)"
      ]
     },
     "metadata": {},
     "execution_count": 2
    }
   ],
   "source": [
    "#일부 종목 빼기\n",
    "#sf = sf[~sf.NAME.isin([\"셀트리온\"])]\n",
    "sf.NAME.unique()"
   ]
  },
  {
   "cell_type": "code",
   "execution_count": 4,
   "metadata": {},
   "outputs": [
    {
     "output_type": "execute_result",
     "data": {
      "text/plain": [
       "set()"
      ]
     },
     "metadata": {},
     "execution_count": 4
    }
   ],
   "source": [
    "set(os.listdir(\"종토방\")).intersection(set(os.listdir(\"종토방_TEST\")))"
   ]
  },
  {
   "cell_type": "code",
   "execution_count": 5,
   "metadata": {},
   "outputs": [
    {
     "output_type": "execute_result",
     "data": {
      "text/plain": [
       "set()"
      ]
     },
     "metadata": {},
     "execution_count": 5
    }
   ],
   "source": [
    "set(sf.NAME.unique()) - set(map(lambda x: x[0:x.index('.')], os.listdir(\"종토방_긍부정평가결과\")))"
   ]
  },
  {
   "cell_type": "code",
   "execution_count": 6,
   "metadata": {},
   "outputs": [],
   "source": [
    "dataframes=dict()\n",
    "for filename in os.listdir(\"종토방_긍부정평가결과\"):\n",
    "    if filename.endswith(\".csv\"):\n",
    "        stockname = filename.split(\".\")[0]\n",
    "        try:\n",
    "            dataframes[stockname] = pd.read_csv(f\"종토방_긍부정평가결과/{filename}\")\n",
    "        except UnicodeDecodeError:\n",
    "            dataframes[stockname] = pd.read_csv(f\"종토방_긍부정평가결과/{filename}\", encoding=\"cp949\")"
   ]
  },
  {
   "cell_type": "code",
   "execution_count": 7,
   "metadata": {},
   "outputs": [],
   "source": [
    "def bbs_sentiment(row):\n",
    "    row = row.copy()\n",
    "    criteria = pd.to_datetime(row[\"DATE\"])\n",
    "    stock_name = row[\"NAME\"]\n",
    "\n",
    "    try:\n",
    "\n",
    "        df = dataframes[stock_name]\n",
    "        df[\"date\"] = pd.to_datetime(df[\"date\"])\n",
    "        for i in range(1,5):\n",
    "            days_before = i*7\n",
    "            temp_df = df[(( criteria - timedelta(days=days_before) ) <= df[\"date\"]) & (df[\"date\"] <= ( criteria - timedelta(days=days_before-6) ) )]\n",
    "            #print(min(temp_df.date), max(temp_df.date), len(temp_df), temp_df.label.mean())\n",
    "            row[f\"week{i}_종토방_글수\"] = len(temp_df)\n",
    "            row[f\"week{i}_종토방_긍부정평균\"] = temp_df.label.mean()\n",
    "\n",
    "    except KeyError:\n",
    "        print(\"KeyError:\",stock_name)\n",
    "\n",
    "    except Exception as e:\n",
    "        print(type(e), e, row)\n",
    "\n",
    "    return row"
   ]
  },
  {
   "cell_type": "code",
   "execution_count": 8,
   "metadata": {},
   "outputs": [
    {
     "output_type": "execute_result",
     "data": {
      "text/plain": [
       "       Unnamed: 0  Unnamed: 0.1        DATE  NAME  SECTOR   VOLUME   PER  \\\n",
       "0               0             0  2018-01-02  현대건설       1   649218  8.44   \n",
       "1               1             1  2018-01-03  현대건설       1   482518  8.24   \n",
       "2               2             2  2018-01-04  현대건설       1  1459930  8.62   \n",
       "3               3             3  2018-01-05  현대건설       1   655891  8.64   \n",
       "4               4             4  2018-01-08  현대건설       1   577188  8.71   \n",
       "...           ...           ...         ...   ...     ...      ...   ...   \n",
       "39261       39261         39261  2021-02-22  유성기업       8    86083  4.74   \n",
       "39262       39262         39262  2021-02-23  유성기업       8   121527  4.65   \n",
       "39263       39263         39263  2021-02-24  유성기업       8   178389  4.45   \n",
       "39264       39264         39264  2021-02-25  유성기업       8    98385  4.54   \n",
       "39265       39265         39265  2021-02-26  유성기업       8   107918  4.44   \n",
       "\n",
       "        PBR   DIV  DPS  ...  week4_기사_count  month_기사_count  week1_종토방_글수  \\\n",
       "0      0.65  1.35  500  ...            12.0            70.0            37   \n",
       "1      0.64  1.38  500  ...            16.0            72.0            32   \n",
       "2      0.67  1.32  500  ...            18.0            73.0            33   \n",
       "3      0.67  1.31  500  ...            17.0            74.0            55   \n",
       "4      0.67  1.30  500  ...            22.0            82.0            78   \n",
       "...     ...   ...  ...  ...             ...             ...           ...   \n",
       "39261  0.30  6.22  200  ...             0.0             0.0            24   \n",
       "39262  0.30  6.35  200  ...             0.0             0.0            22   \n",
       "39263  0.28  6.63  200  ...             0.0             0.0            21   \n",
       "39264  0.29  6.49  200  ...             0.0             0.0            24   \n",
       "39265  0.28  6.64  200  ...             0.0             0.0            22   \n",
       "\n",
       "       week1_종토방_긍부정평균  week2_종토방_글수  week2_종토방_긍부정평균  week3_종토방_글수  \\\n",
       "0             0.489850            51         0.542892           102   \n",
       "1             0.502718            57         0.530411            99   \n",
       "2             0.536455            61         0.505641            87   \n",
       "3             0.535718            61         0.511538            49   \n",
       "4             0.529658            38         0.532232            54   \n",
       "...                ...           ...              ...           ...   \n",
       "39261         0.293066            17         0.524857           116   \n",
       "39262         0.302272            15         0.457533           120   \n",
       "39263         0.313428            19         0.372165           122   \n",
       "39264         0.274343            16         0.362671            44   \n",
       "39265         0.295510            20         0.343072            39   \n",
       "\n",
       "       week3_종토방_긍부정평균  week4_종토방_글수  week4_종토방_긍부정평균  \n",
       "0             0.429942            65         0.487735  \n",
       "1             0.447602            61         0.448210  \n",
       "2             0.435782            70         0.473345  \n",
       "3             0.528806           104         0.429063  \n",
       "4             0.539484           101         0.415629  \n",
       "...                ...           ...              ...  \n",
       "39261         0.490507            18         0.421042  \n",
       "39262         0.491911            17         0.462671  \n",
       "39263         0.493149            13         0.554237  \n",
       "39264         0.488564            92         0.501156  \n",
       "39265         0.464141            93         0.510301  \n",
       "\n",
       "[39266 rows x 49 columns]"
      ],
      "text/html": "<div>\n<style scoped>\n    .dataframe tbody tr th:only-of-type {\n        vertical-align: middle;\n    }\n\n    .dataframe tbody tr th {\n        vertical-align: top;\n    }\n\n    .dataframe thead th {\n        text-align: right;\n    }\n</style>\n<table border=\"1\" class=\"dataframe\">\n  <thead>\n    <tr style=\"text-align: right;\">\n      <th></th>\n      <th>Unnamed: 0</th>\n      <th>Unnamed: 0.1</th>\n      <th>DATE</th>\n      <th>NAME</th>\n      <th>SECTOR</th>\n      <th>VOLUME</th>\n      <th>PER</th>\n      <th>PBR</th>\n      <th>DIV</th>\n      <th>DPS</th>\n      <th>...</th>\n      <th>week4_기사_count</th>\n      <th>month_기사_count</th>\n      <th>week1_종토방_글수</th>\n      <th>week1_종토방_긍부정평균</th>\n      <th>week2_종토방_글수</th>\n      <th>week2_종토방_긍부정평균</th>\n      <th>week3_종토방_글수</th>\n      <th>week3_종토방_긍부정평균</th>\n      <th>week4_종토방_글수</th>\n      <th>week4_종토방_긍부정평균</th>\n    </tr>\n  </thead>\n  <tbody>\n    <tr>\n      <th>0</th>\n      <td>0</td>\n      <td>0</td>\n      <td>2018-01-02</td>\n      <td>현대건설</td>\n      <td>1</td>\n      <td>649218</td>\n      <td>8.44</td>\n      <td>0.65</td>\n      <td>1.35</td>\n      <td>500</td>\n      <td>...</td>\n      <td>12.0</td>\n      <td>70.0</td>\n      <td>37</td>\n      <td>0.489850</td>\n      <td>51</td>\n      <td>0.542892</td>\n      <td>102</td>\n      <td>0.429942</td>\n      <td>65</td>\n      <td>0.487735</td>\n    </tr>\n    <tr>\n      <th>1</th>\n      <td>1</td>\n      <td>1</td>\n      <td>2018-01-03</td>\n      <td>현대건설</td>\n      <td>1</td>\n      <td>482518</td>\n      <td>8.24</td>\n      <td>0.64</td>\n      <td>1.38</td>\n      <td>500</td>\n      <td>...</td>\n      <td>16.0</td>\n      <td>72.0</td>\n      <td>32</td>\n      <td>0.502718</td>\n      <td>57</td>\n      <td>0.530411</td>\n      <td>99</td>\n      <td>0.447602</td>\n      <td>61</td>\n      <td>0.448210</td>\n    </tr>\n    <tr>\n      <th>2</th>\n      <td>2</td>\n      <td>2</td>\n      <td>2018-01-04</td>\n      <td>현대건설</td>\n      <td>1</td>\n      <td>1459930</td>\n      <td>8.62</td>\n      <td>0.67</td>\n      <td>1.32</td>\n      <td>500</td>\n      <td>...</td>\n      <td>18.0</td>\n      <td>73.0</td>\n      <td>33</td>\n      <td>0.536455</td>\n      <td>61</td>\n      <td>0.505641</td>\n      <td>87</td>\n      <td>0.435782</td>\n      <td>70</td>\n      <td>0.473345</td>\n    </tr>\n    <tr>\n      <th>3</th>\n      <td>3</td>\n      <td>3</td>\n      <td>2018-01-05</td>\n      <td>현대건설</td>\n      <td>1</td>\n      <td>655891</td>\n      <td>8.64</td>\n      <td>0.67</td>\n      <td>1.31</td>\n      <td>500</td>\n      <td>...</td>\n      <td>17.0</td>\n      <td>74.0</td>\n      <td>55</td>\n      <td>0.535718</td>\n      <td>61</td>\n      <td>0.511538</td>\n      <td>49</td>\n      <td>0.528806</td>\n      <td>104</td>\n      <td>0.429063</td>\n    </tr>\n    <tr>\n      <th>4</th>\n      <td>4</td>\n      <td>4</td>\n      <td>2018-01-08</td>\n      <td>현대건설</td>\n      <td>1</td>\n      <td>577188</td>\n      <td>8.71</td>\n      <td>0.67</td>\n      <td>1.30</td>\n      <td>500</td>\n      <td>...</td>\n      <td>22.0</td>\n      <td>82.0</td>\n      <td>78</td>\n      <td>0.529658</td>\n      <td>38</td>\n      <td>0.532232</td>\n      <td>54</td>\n      <td>0.539484</td>\n      <td>101</td>\n      <td>0.415629</td>\n    </tr>\n    <tr>\n      <th>...</th>\n      <td>...</td>\n      <td>...</td>\n      <td>...</td>\n      <td>...</td>\n      <td>...</td>\n      <td>...</td>\n      <td>...</td>\n      <td>...</td>\n      <td>...</td>\n      <td>...</td>\n      <td>...</td>\n      <td>...</td>\n      <td>...</td>\n      <td>...</td>\n      <td>...</td>\n      <td>...</td>\n      <td>...</td>\n      <td>...</td>\n      <td>...</td>\n      <td>...</td>\n      <td>...</td>\n    </tr>\n    <tr>\n      <th>39261</th>\n      <td>39261</td>\n      <td>39261</td>\n      <td>2021-02-22</td>\n      <td>유성기업</td>\n      <td>8</td>\n      <td>86083</td>\n      <td>4.74</td>\n      <td>0.30</td>\n      <td>6.22</td>\n      <td>200</td>\n      <td>...</td>\n      <td>0.0</td>\n      <td>0.0</td>\n      <td>24</td>\n      <td>0.293066</td>\n      <td>17</td>\n      <td>0.524857</td>\n      <td>116</td>\n      <td>0.490507</td>\n      <td>18</td>\n      <td>0.421042</td>\n    </tr>\n    <tr>\n      <th>39262</th>\n      <td>39262</td>\n      <td>39262</td>\n      <td>2021-02-23</td>\n      <td>유성기업</td>\n      <td>8</td>\n      <td>121527</td>\n      <td>4.65</td>\n      <td>0.30</td>\n      <td>6.35</td>\n      <td>200</td>\n      <td>...</td>\n      <td>0.0</td>\n      <td>0.0</td>\n      <td>22</td>\n      <td>0.302272</td>\n      <td>15</td>\n      <td>0.457533</td>\n      <td>120</td>\n      <td>0.491911</td>\n      <td>17</td>\n      <td>0.462671</td>\n    </tr>\n    <tr>\n      <th>39263</th>\n      <td>39263</td>\n      <td>39263</td>\n      <td>2021-02-24</td>\n      <td>유성기업</td>\n      <td>8</td>\n      <td>178389</td>\n      <td>4.45</td>\n      <td>0.28</td>\n      <td>6.63</td>\n      <td>200</td>\n      <td>...</td>\n      <td>0.0</td>\n      <td>0.0</td>\n      <td>21</td>\n      <td>0.313428</td>\n      <td>19</td>\n      <td>0.372165</td>\n      <td>122</td>\n      <td>0.493149</td>\n      <td>13</td>\n      <td>0.554237</td>\n    </tr>\n    <tr>\n      <th>39264</th>\n      <td>39264</td>\n      <td>39264</td>\n      <td>2021-02-25</td>\n      <td>유성기업</td>\n      <td>8</td>\n      <td>98385</td>\n      <td>4.54</td>\n      <td>0.29</td>\n      <td>6.49</td>\n      <td>200</td>\n      <td>...</td>\n      <td>0.0</td>\n      <td>0.0</td>\n      <td>24</td>\n      <td>0.274343</td>\n      <td>16</td>\n      <td>0.362671</td>\n      <td>44</td>\n      <td>0.488564</td>\n      <td>92</td>\n      <td>0.501156</td>\n    </tr>\n    <tr>\n      <th>39265</th>\n      <td>39265</td>\n      <td>39265</td>\n      <td>2021-02-26</td>\n      <td>유성기업</td>\n      <td>8</td>\n      <td>107918</td>\n      <td>4.44</td>\n      <td>0.28</td>\n      <td>6.64</td>\n      <td>200</td>\n      <td>...</td>\n      <td>0.0</td>\n      <td>0.0</td>\n      <td>22</td>\n      <td>0.295510</td>\n      <td>20</td>\n      <td>0.343072</td>\n      <td>39</td>\n      <td>0.464141</td>\n      <td>93</td>\n      <td>0.510301</td>\n    </tr>\n  </tbody>\n</table>\n<p>39266 rows × 49 columns</p>\n</div>"
     },
     "metadata": {},
     "execution_count": 8
    }
   ],
   "source": [
    "new = sf.apply(bbs_sentiment, axis=1)\n",
    "new"
   ]
  },
  {
   "cell_type": "code",
   "execution_count": 9,
   "metadata": {},
   "outputs": [],
   "source": [
    "new[\"week1_종토방_긍부정평균\"] = new[\"week1_종토방_긍부정평균\"].fillna(0.5)\n",
    "new[\"week2_종토방_긍부정평균\"] = new[\"week2_종토방_긍부정평균\"].fillna(0.5)\n",
    "new[\"week3_종토방_긍부정평균\"] = new[\"week3_종토방_긍부정평균\"].fillna(0.5)\n",
    "new[\"week4_종토방_긍부정평균\"] = new[\"week4_종토방_긍부정평균\"].fillna(0.5)"
   ]
  },
  {
   "cell_type": "code",
   "execution_count": 10,
   "metadata": {},
   "outputs": [],
   "source": [
    "new[\"4주간_종토방_긍부정변동\"]=abs(new[\"week4_종토방_긍부정평균\"] - new[\"week3_종토방_긍부정평균\"]) + abs(new[\"week3_종토방_긍부정평균\"] - new[\"week2_종토방_긍부정평균\"]) + abs(new[\"week2_종토방_긍부정평균\"] - new[\"week1_종토방_긍부정평균\"])\n",
    "new[\"4주간_종토방_글수변동\"]=abs(new[\"week4_종토방_글수\"] - new[\"week3_종토방_글수\"]) + abs(new[\"week3_종토방_글수\"] - new[\"week2_종토방_글수\"]) + abs(new[\"week2_종토방_글수\"] - new[\"week1_종토방_글수\"])"
   ]
  },
  {
   "cell_type": "code",
   "execution_count": 20,
   "metadata": {},
   "outputs": [],
   "source": [
    "new2 = new.drop([\"week1_종토방_글수\",\"week1_종토방_긍부정평균\",\"week2_종토방_글수\",\"week2_종토방_긍부정평균\",\"week3_종토방_글수\",\"week3_종토방_긍부정평균\",\"week4_종토방_글수\", \"week4_종토방_긍부정평균\"], axis=1)"
   ]
  },
  {
   "cell_type": "code",
   "execution_count": 11,
   "metadata": {},
   "outputs": [],
   "source": [
    "new.to_csv(\"df_updated_.csv\")"
   ]
  }
 ]
}